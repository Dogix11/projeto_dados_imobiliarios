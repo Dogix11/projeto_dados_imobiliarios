{
 "cells": [
  {
   "cell_type": "code",
   "execution_count": 5,
   "metadata": {},
   "outputs": [],
   "source": [
    "import pandas as pd\n",
    "import seaborn as sb\n",
    "import matplotlib.pyplot as plt"
   ]
  },
  {
   "cell_type": "code",
   "execution_count": 7,
   "metadata": {},
   "outputs": [
    {
     "name": "stdout",
     "output_type": "stream",
     "text": [
      "Index(['Data', 'Info', 'Valor'], dtype='object')\n",
      "        Data                                           Info          Valor\n",
      "0 2020-09-30     credito_estoque_carteira_credito_pf_sfh_ma  3275567445,00\n",
      "1 2015-03-31     credito_estoque_carteira_credito_pf_sfh_ap   240143028,30\n",
      "2 2016-01-31   credito_estoque_risco_operacao_pf_livre_c_go           4,45\n",
      "3 2014-05-31    credito_estoque_risco_operacao_pj_fgts_b_go          50,69\n",
      "4 2016-02-29  credito_estoque_inadimplencia_pj_comercial_br           0,38\n"
     ]
    }
   ],
   "source": [
    "df = pd.read_csv(\"mercadoimobiliario.csv\", sep=\";\")\n",
    "\n",
    "df['Data'] = pd.to_datetime(df['Data'], dayfirst=True, format='%d/%m/%Y')\n",
    "print(df.columns)\n",
    "\n",
    "print(df.head())"
   ]
  },
  {
   "cell_type": "code",
   "execution_count": null,
   "metadata": {},
   "outputs": [],
   "source": []
  }
 ],
 "metadata": {
  "kernelspec": {
   "display_name": "Python 3",
   "language": "python",
   "name": "python3"
  },
  "language_info": {
   "codemirror_mode": {
    "name": "ipython",
    "version": 3
   },
   "file_extension": ".py",
   "mimetype": "text/x-python",
   "name": "python",
   "nbconvert_exporter": "python",
   "pygments_lexer": "ipython3",
   "version": "3.10.11"
  }
 },
 "nbformat": 4,
 "nbformat_minor": 2
}
