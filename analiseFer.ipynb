{
 "cells": [
  {
   "cell_type": "code",
   "execution_count": 1,
   "metadata": {},
   "outputs": [],
   "source": [
    "import pandas as pd\n",
    "import seaborn as sb\n",
    "import matplotlib.pyplot as plt"
   ]
  },
  {
   "cell_type": "code",
   "execution_count": 6,
   "metadata": {},
   "outputs": [
    {
     "name": "stdout",
     "output_type": "stream",
     "text": [
      "['credito' 'imoveis' 'direcionamento' 'fontes' 'indices' 'contabil']\n",
      "['estoque' 'contratacao' None]\n"
     ]
    }
   ],
   "source": [
    "# Carregar o CSV\n",
    "df = pd.read_csv(\"./mercadoimobiliario.csv\", sep=';')\n",
    "\n",
    "# Extração e correção da variável 'Valor'\n",
    "df['Valor'] = df['Valor'].str.replace(',', \".\")\n",
    "df['Valor'] = pd.to_numeric(df['Valor'].str.strip())\n",
    "\n",
    "# Conversão de 'Data' para datetime\n",
    "df['Data'] = pd.to_datetime(df['Data'], dayfirst=True, format='%d/%m/%Y')\n",
    "\n",
    "# Ajustar nomes das colunas\n",
    "df.columns = df.columns.str.strip()\n",
    "\n",
    "# Extração de 'tipo_transacao' e 'tipo_credito'\n",
    "df['tipo_transacao'] = df['Info'].apply(lambda x: x.split('_')[0])\n",
    "df['tipo_credito'] = df.apply(lambda row: row['Info'].split('_')[1] if row['tipo_transacao'] == 'credito' else None, axis=1)\n",
    "\n",
    "# Dicionário de mapeamento de estados para regiões\n",
    "estado_para_regiao = {\n",
    "    'ac': 'Norte', 'ap': 'Norte', 'am': 'Norte', 'pa': 'Norte', 'ro': 'Norte', 'rr': 'Norte', 'to': 'Norte',\n",
    "    'al': 'Nordeste', 'ba': 'Nordeste', 'ce': 'Nordeste', 'ma': 'Nordeste', 'pb': 'Nordeste', 'pe': 'Nordeste', 'pi': 'Nordeste', 'rn': 'Nordeste', 'se': 'Nordeste',\n",
    "    'df': 'Centro-Oeste', 'go': 'Centro-Oeste', 'mt': 'Centro-Oeste', 'ms': 'Centro-Oeste',\n",
    "    'es': 'Sudeste', 'mg': 'Sudeste', 'rj': 'Sudeste', 'sp': 'Sudeste',\n",
    "    'pr': 'Sul', 'rs': 'Sul', 'sc': 'Sul'\n",
    "}\n",
    "\n",
    "# Extração de 'estado' e mapeamento para 'regiao'\n",
    "df['estado'] = df['Info'].apply(lambda x: x.split('_')[-1].lower())\n",
    "df['regiao'] = df['estado'].apply(lambda estado: estado_para_regiao.get(estado, 'Desconhecido'))\n",
    "\n",
    "# Ordenar por 'Data'\n",
    "df_organizado_data = df.sort_values(by='Data')\n",
    "\n",
    "# Renomear colunas\n",
    "df_organizado_data.columns = ['data', 'info', 'valor', 'tipo_transacao', 'tipo_credito', 'estado', 'regiao']\n",
    "\n",
    "# Resetar o índice\n",
    "df_organizado_data = df_organizado_data.reset_index(drop=True)\n",
    "\n",
    "# Exibir valores únicos\n",
    "print(df['tipo_transacao'].unique())\n",
    "print(df['tipo_credito'].unique())\n"
   ]
  },
  {
   "cell_type": "code",
   "execution_count": 7,
   "metadata": {},
   "outputs": [
    {
     "name": "stdout",
     "output_type": "stream",
     "text": [
      "             Data                                           Info   \n",
      "0      2020-09-30     credito_estoque_carteira_credito_pf_sfh_ma  \\\n",
      "1      2015-03-31     credito_estoque_carteira_credito_pf_sfh_ap   \n",
      "2      2016-01-31   credito_estoque_risco_operacao_pf_livre_c_go   \n",
      "3      2014-05-31    credito_estoque_risco_operacao_pj_fgts_b_go   \n",
      "4      2016-02-29  credito_estoque_inadimplencia_pj_comercial_br   \n",
      "...           ...                                            ...   \n",
      "352152 2019-04-30     credito_contratacao_contratado_pj_livre_rj   \n",
      "352153 2020-02-29                        imoveis_dormitorio_3_ma   \n",
      "352154 2019-04-30     credito_contratacao_contratado_pj_livre_rs   \n",
      "352155 2020-02-29                        imoveis_dormitorio_3_mg   \n",
      "352156 2019-04-30     credito_contratacao_contratado_pj_livre_sc   \n",
      "\n",
      "               Valor tipo_transacao tipo_credito estado        regiao  \n",
      "0       3.275567e+09        credito      estoque     ma      Nordeste  \n",
      "1       2.401430e+08        credito      estoque     ap         Norte  \n",
      "2       4.450000e+00        credito      estoque     go  Centro-Oeste  \n",
      "3       5.069000e+01        credito      estoque     go  Centro-Oeste  \n",
      "4       3.800000e-01        credito      estoque     br  Desconhecido  \n",
      "...              ...            ...          ...    ...           ...  \n",
      "352152  5.000000e+06        credito  contratacao     rj       Sudeste  \n",
      "352153  1.010000e+02        imoveis         None     ma      Nordeste  \n",
      "352154  1.600000e+07        credito  contratacao     rs           Sul  \n",
      "352155  1.055000e+03        imoveis         None     mg       Sudeste  \n",
      "352156  2.120000e+05        credito  contratacao     sc           Sul  \n",
      "\n",
      "[352157 rows x 7 columns]\n"
     ]
    }
   ],
   "source": [
    "print(df)"
   ]
  }
 ],
 "metadata": {
  "kernelspec": {
   "display_name": "Python 3",
   "language": "python",
   "name": "python3"
  },
  "language_info": {
   "codemirror_mode": {
    "name": "ipython",
    "version": 3
   },
   "file_extension": ".py",
   "mimetype": "text/x-python",
   "name": "python",
   "nbconvert_exporter": "python",
   "pygments_lexer": "ipython3",
   "version": "3.10.11"
  }
 },
 "nbformat": 4,
 "nbformat_minor": 2
}
