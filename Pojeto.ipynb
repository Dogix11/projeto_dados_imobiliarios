{
 "cells": [
  {
   "cell_type": "code",
   "execution_count": 1,
   "metadata": {},
   "outputs": [],
   "source": [
    "import pandas as pd\n",
    "import matplotlib as plt\n",
    "import re"
   ]
  },
  {
   "cell_type": "code",
   "execution_count": 2,
   "metadata": {},
   "outputs": [],
   "source": [
    "df = pd.read_csv(\"C:\\\\Users\\\\diogo\\\\Downloads\\\\mercadoimobiliario.csv\", sep= ';')"
   ]
  },
  {
   "cell_type": "code",
   "execution_count": 3,
   "metadata": {},
   "outputs": [
    {
     "name": "stdout",
     "output_type": "stream",
     "text": [
      "<class 'pandas.core.frame.DataFrame'>\n",
      "RangeIndex: 352157 entries, 0 to 352156\n",
      "Data columns (total 3 columns):\n",
      " #   Column  Non-Null Count   Dtype \n",
      "---  ------  --------------   ----- \n",
      " 0   Data    352157 non-null  object\n",
      " 1   Info    352157 non-null  object\n",
      " 2   Valor   352157 non-null  object\n",
      "dtypes: object(3)\n",
      "memory usage: 8.1+ MB\n"
     ]
    }
   ],
   "source": [
    "df.info()"
   ]
  },
  {
   "cell_type": "code",
   "execution_count": 4,
   "metadata": {},
   "outputs": [
    {
     "data": {
      "text/plain": [
       "122"
      ]
     },
     "execution_count": 4,
     "metadata": {},
     "output_type": "execute_result"
    }
   ],
   "source": [
    "df['Data'].nunique()"
   ]
  },
  {
   "cell_type": "code",
   "execution_count": 5,
   "metadata": {},
   "outputs": [],
   "source": [
    "df['Valor'] = df['Valor'].str.replace(',', \".\")"
   ]
  },
  {
   "cell_type": "code",
   "execution_count": 6,
   "metadata": {},
   "outputs": [
    {
     "data": {
      "text/plain": [
       "0          3275567445\n",
       "1         240143028.3\n",
       "2                4.45\n",
       "3               50.69\n",
       "4                0.38\n",
       "             ...     \n",
       "352152        5000000\n",
       "352153            101\n",
       "352154       16000000\n",
       "352155           1055\n",
       "352156         212000\n",
       "Name: Valor, Length: 352157, dtype: object"
      ]
     },
     "execution_count": 6,
     "metadata": {},
     "output_type": "execute_result"
    }
   ],
   "source": [
    "df['Valor'].str.strip()"
   ]
  },
  {
   "cell_type": "code",
   "execution_count": 7,
   "metadata": {},
   "outputs": [],
   "source": [
    "df['Valor'] = pd.to_numeric(df['Valor'])"
   ]
  },
  {
   "cell_type": "code",
   "execution_count": null,
   "metadata": {},
   "outputs": [],
   "source": []
  },
  {
   "cell_type": "code",
   "execution_count": 8,
   "metadata": {},
   "outputs": [
    {
     "name": "stdout",
     "output_type": "stream",
     "text": [
      "<class 'pandas.core.frame.DataFrame'>\n",
      "RangeIndex: 352157 entries, 0 to 352156\n",
      "Data columns (total 3 columns):\n",
      " #   Column  Non-Null Count   Dtype  \n",
      "---  ------  --------------   -----  \n",
      " 0   Data    352157 non-null  object \n",
      " 1   Info    352157 non-null  object \n",
      " 2   Valor   352157 non-null  float64\n",
      "dtypes: float64(1), object(2)\n",
      "memory usage: 8.1+ MB\n"
     ]
    }
   ],
   "source": [
    "df.info()"
   ]
  },
  {
   "cell_type": "code",
   "execution_count": 9,
   "metadata": {},
   "outputs": [
    {
     "data": {
      "text/plain": [
       "'30/09/2020'"
      ]
     },
     "execution_count": 9,
     "metadata": {},
     "output_type": "execute_result"
    }
   ],
   "source": [
    "df['Data'].loc[0]           "
   ]
  },
  {
   "cell_type": "code",
   "execution_count": 10,
   "metadata": {},
   "outputs": [],
   "source": [
    "df['Data'] = pd.to_datetime(df['Data'], dayfirst=True, format='%d/%m/%Y')"
   ]
  },
  {
   "cell_type": "code",
   "execution_count": 24,
   "metadata": {},
   "outputs": [],
   "source": [
    "df_organizado_data = df.sort_values(by='Data')"
   ]
  },
  {
   "cell_type": "code",
   "execution_count": 25,
   "metadata": {},
   "outputs": [
    {
     "data": {
      "text/html": [
       "<div>\n",
       "<style scoped>\n",
       "    .dataframe tbody tr th:only-of-type {\n",
       "        vertical-align: middle;\n",
       "    }\n",
       "\n",
       "    .dataframe tbody tr th {\n",
       "        vertical-align: top;\n",
       "    }\n",
       "\n",
       "    .dataframe thead th {\n",
       "        text-align: right;\n",
       "    }\n",
       "</style>\n",
       "<table border=\"1\" class=\"dataframe\">\n",
       "  <thead>\n",
       "    <tr style=\"text-align: right;\">\n",
       "      <th></th>\n",
       "      <th>Data</th>\n",
       "      <th>Info</th>\n",
       "      <th>Valor</th>\n",
       "    </tr>\n",
       "  </thead>\n",
       "  <tbody>\n",
       "    <tr>\n",
       "      <th>185644</th>\n",
       "      <td>2014-04-30</td>\n",
       "      <td>credito_estoque_indexador_pf_tr_sc</td>\n",
       "      <td>1.608026e+10</td>\n",
       "    </tr>\n",
       "    <tr>\n",
       "      <th>132778</th>\n",
       "      <td>2014-04-30</td>\n",
       "      <td>credito_estoque_carteira_credito_pf_fgts_pe</td>\n",
       "      <td>2.763158e+09</td>\n",
       "    </tr>\n",
       "    <tr>\n",
       "      <th>100702</th>\n",
       "      <td>2014-04-30</td>\n",
       "      <td>credito_contratacao_ltv_pf_comercial_pr</td>\n",
       "      <td>5.537000e+01</td>\n",
       "    </tr>\n",
       "    <tr>\n",
       "      <th>17826</th>\n",
       "      <td>2014-04-30</td>\n",
       "      <td>credito_estoque_inadimplencia_pf_sfh_ac</td>\n",
       "      <td>3.280000e+00</td>\n",
       "    </tr>\n",
       "    <tr>\n",
       "      <th>17827</th>\n",
       "      <td>2014-04-30</td>\n",
       "      <td>credito_estoque_risco_operacao_pf_comercial_aa_rs</td>\n",
       "      <td>9.470000e+00</td>\n",
       "    </tr>\n",
       "    <tr>\n",
       "      <th>...</th>\n",
       "      <td>...</td>\n",
       "      <td>...</td>\n",
       "      <td>...</td>\n",
       "    </tr>\n",
       "    <tr>\n",
       "      <th>190017</th>\n",
       "      <td>2024-05-31</td>\n",
       "      <td>credito_estoque_risco_operacao_pj_comercial_aa_es</td>\n",
       "      <td>5.279000e+01</td>\n",
       "    </tr>\n",
       "    <tr>\n",
       "      <th>347387</th>\n",
       "      <td>2024-05-31</td>\n",
       "      <td>credito_estoque_carteira_credito_pf_sfh_am</td>\n",
       "      <td>4.999679e+09</td>\n",
       "    </tr>\n",
       "    <tr>\n",
       "      <th>209169</th>\n",
       "      <td>2024-05-31</td>\n",
       "      <td>credito_estoque_risco_operacao_pj_fgts_aa_rs</td>\n",
       "      <td>1.601000e+01</td>\n",
       "    </tr>\n",
       "    <tr>\n",
       "      <th>263421</th>\n",
       "      <td>2024-05-31</td>\n",
       "      <td>credito_estoque_ativo_problematico_pj_fgts_rj</td>\n",
       "      <td>5.287125e+06</td>\n",
       "    </tr>\n",
       "    <tr>\n",
       "      <th>348143</th>\n",
       "      <td>2024-05-31</td>\n",
       "      <td>credito_estoque_carteira_credito_pj_fgts_pi</td>\n",
       "      <td>5.623718e+06</td>\n",
       "    </tr>\n",
       "  </tbody>\n",
       "</table>\n",
       "<p>352157 rows × 3 columns</p>\n",
       "</div>"
      ],
      "text/plain": [
       "             Data                                               Info  \\\n",
       "185644 2014-04-30                 credito_estoque_indexador_pf_tr_sc   \n",
       "132778 2014-04-30        credito_estoque_carteira_credito_pf_fgts_pe   \n",
       "100702 2014-04-30            credito_contratacao_ltv_pf_comercial_pr   \n",
       "17826  2014-04-30            credito_estoque_inadimplencia_pf_sfh_ac   \n",
       "17827  2014-04-30  credito_estoque_risco_operacao_pf_comercial_aa_rs   \n",
       "...           ...                                                ...   \n",
       "190017 2024-05-31  credito_estoque_risco_operacao_pj_comercial_aa_es   \n",
       "347387 2024-05-31         credito_estoque_carteira_credito_pf_sfh_am   \n",
       "209169 2024-05-31       credito_estoque_risco_operacao_pj_fgts_aa_rs   \n",
       "263421 2024-05-31      credito_estoque_ativo_problematico_pj_fgts_rj   \n",
       "348143 2024-05-31        credito_estoque_carteira_credito_pj_fgts_pi   \n",
       "\n",
       "               Valor  \n",
       "185644  1.608026e+10  \n",
       "132778  2.763158e+09  \n",
       "100702  5.537000e+01  \n",
       "17826   3.280000e+00  \n",
       "17827   9.470000e+00  \n",
       "...              ...  \n",
       "190017  5.279000e+01  \n",
       "347387  4.999679e+09  \n",
       "209169  1.601000e+01  \n",
       "263421  5.287125e+06  \n",
       "348143  5.623718e+06  \n",
       "\n",
       "[352157 rows x 3 columns]"
      ]
     },
     "execution_count": 25,
     "metadata": {},
     "output_type": "execute_result"
    }
   ],
   "source": [
    "df_organizado_data"
   ]
  },
  {
   "cell_type": "code",
   "execution_count": 12,
   "metadata": {},
   "outputs": [
    {
     "data": {
      "text/plain": [
       "3667"
      ]
     },
     "execution_count": 12,
     "metadata": {},
     "output_type": "execute_result"
    }
   ],
   "source": [
    "df_organizado_data['Info'].nunique()"
   ]
  },
  {
   "cell_type": "code",
   "execution_count": 13,
   "metadata": {},
   "outputs": [],
   "source": [
    "filtro_imoveis = df[df['Info'].str.startswith('imoveis')]"
   ]
  },
  {
   "cell_type": "code",
   "execution_count": 14,
   "metadata": {},
   "outputs": [
    {
     "data": {
      "text/plain": [
       "392"
      ]
     },
     "execution_count": 14,
     "metadata": {},
     "output_type": "execute_result"
    }
   ],
   "source": [
    "filtro_imoveis['Info'].nunique()"
   ]
  },
  {
   "cell_type": "code",
   "execution_count": 15,
   "metadata": {},
   "outputs": [
    {
     "data": {
      "text/plain": [
       "Data       76\n",
       "Info      392\n",
       "Valor    8264\n",
       "dtype: int64"
      ]
     },
     "execution_count": 15,
     "metadata": {},
     "output_type": "execute_result"
    }
   ],
   "source": [
    "filtro_imoveis.nunique()"
   ]
  },
  {
   "cell_type": "code",
   "execution_count": 16,
   "metadata": {},
   "outputs": [],
   "source": [
    "filtro_imoveis_sp = filtro_imoveis[filtro_imoveis['Info'].str.endswith('sp')]"
   ]
  },
  {
   "cell_type": "code",
   "execution_count": 17,
   "metadata": {},
   "outputs": [
    {
     "data": {
      "text/html": [
       "<div>\n",
       "<style scoped>\n",
       "    .dataframe tbody tr th:only-of-type {\n",
       "        vertical-align: middle;\n",
       "    }\n",
       "\n",
       "    .dataframe tbody tr th {\n",
       "        vertical-align: top;\n",
       "    }\n",
       "\n",
       "    .dataframe thead th {\n",
       "        text-align: right;\n",
       "    }\n",
       "</style>\n",
       "<table border=\"1\" class=\"dataframe\">\n",
       "  <thead>\n",
       "    <tr style=\"text-align: right;\">\n",
       "      <th></th>\n",
       "      <th>Data</th>\n",
       "      <th>Info</th>\n",
       "      <th>Valor</th>\n",
       "    </tr>\n",
       "  </thead>\n",
       "  <tbody>\n",
       "    <tr>\n",
       "      <th>38</th>\n",
       "      <td>2019-10-31</td>\n",
       "      <td>imoveis_valor_avaliacao_sp</td>\n",
       "      <td>215500.00</td>\n",
       "    </tr>\n",
       "    <tr>\n",
       "      <th>181</th>\n",
       "      <td>2022-06-30</td>\n",
       "      <td>imoveis_area_privativa_sp</td>\n",
       "      <td>57.95</td>\n",
       "    </tr>\n",
       "    <tr>\n",
       "      <th>700</th>\n",
       "      <td>2021-09-30</td>\n",
       "      <td>imoveis_dormitorio_3_sp</td>\n",
       "      <td>6489.00</td>\n",
       "    </tr>\n",
       "    <tr>\n",
       "      <th>915</th>\n",
       "      <td>2019-10-31</td>\n",
       "      <td>imoveis_valor_compra_sp</td>\n",
       "      <td>209699.40</td>\n",
       "    </tr>\n",
       "    <tr>\n",
       "      <th>2028</th>\n",
       "      <td>2018-07-31</td>\n",
       "      <td>imoveis_dormitorio_2_sp</td>\n",
       "      <td>14570.00</td>\n",
       "    </tr>\n",
       "    <tr>\n",
       "      <th>...</th>\n",
       "      <td>...</td>\n",
       "      <td>...</td>\n",
       "      <td>...</td>\n",
       "    </tr>\n",
       "    <tr>\n",
       "      <th>351917</th>\n",
       "      <td>2020-01-31</td>\n",
       "      <td>imoveis_dormitorio_2_sp</td>\n",
       "      <td>10307.00</td>\n",
       "    </tr>\n",
       "    <tr>\n",
       "      <th>351971</th>\n",
       "      <td>2020-01-31</td>\n",
       "      <td>imoveis_dormitorio_3_sp</td>\n",
       "      <td>3870.00</td>\n",
       "    </tr>\n",
       "    <tr>\n",
       "      <th>352025</th>\n",
       "      <td>2020-01-31</td>\n",
       "      <td>imoveis_dormitorio_4_mais_sp</td>\n",
       "      <td>737.00</td>\n",
       "    </tr>\n",
       "    <tr>\n",
       "      <th>352077</th>\n",
       "      <td>2020-02-29</td>\n",
       "      <td>imoveis_dormitorio_1_sp</td>\n",
       "      <td>5652.00</td>\n",
       "    </tr>\n",
       "    <tr>\n",
       "      <th>352131</th>\n",
       "      <td>2020-02-29</td>\n",
       "      <td>imoveis_dormitorio_2_sp</td>\n",
       "      <td>11532.00</td>\n",
       "    </tr>\n",
       "  </tbody>\n",
       "</table>\n",
       "<p>1064 rows × 3 columns</p>\n",
       "</div>"
      ],
      "text/plain": [
       "             Data                          Info      Valor\n",
       "38     2019-10-31    imoveis_valor_avaliacao_sp  215500.00\n",
       "181    2022-06-30     imoveis_area_privativa_sp      57.95\n",
       "700    2021-09-30       imoveis_dormitorio_3_sp    6489.00\n",
       "915    2019-10-31       imoveis_valor_compra_sp  209699.40\n",
       "2028   2018-07-31       imoveis_dormitorio_2_sp   14570.00\n",
       "...           ...                           ...        ...\n",
       "351917 2020-01-31       imoveis_dormitorio_2_sp   10307.00\n",
       "351971 2020-01-31       imoveis_dormitorio_3_sp    3870.00\n",
       "352025 2020-01-31  imoveis_dormitorio_4_mais_sp     737.00\n",
       "352077 2020-02-29       imoveis_dormitorio_1_sp    5652.00\n",
       "352131 2020-02-29       imoveis_dormitorio_2_sp   11532.00\n",
       "\n",
       "[1064 rows x 3 columns]"
      ]
     },
     "execution_count": 17,
     "metadata": {},
     "output_type": "execute_result"
    }
   ],
   "source": [
    "filtro_imoveis_sp"
   ]
  },
  {
   "cell_type": "code",
   "execution_count": 18,
   "metadata": {},
   "outputs": [],
   "source": [
    "def filtro_rj(dataframe):\n",
    "    return dataframe[dataframe['Info'].str.endswith('rj')]"
   ]
  },
  {
   "cell_type": "code",
   "execution_count": 19,
   "metadata": {},
   "outputs": [],
   "source": [
    "def filtro_unidade_federativa(dataframe,unidade_federativa):\n",
    "    return dataframe[dataframe['Info'].str.endswith(unidade_federativa)]"
   ]
  },
  {
   "cell_type": "code",
   "execution_count": 20,
   "metadata": {},
   "outputs": [],
   "source": [
    "filtro_imoveis_rj = filtro_rj(filtro_imoveis)"
   ]
  },
  {
   "cell_type": "code",
   "execution_count": 21,
   "metadata": {},
   "outputs": [
    {
     "data": {
      "text/html": [
       "<div>\n",
       "<style scoped>\n",
       "    .dataframe tbody tr th:only-of-type {\n",
       "        vertical-align: middle;\n",
       "    }\n",
       "\n",
       "    .dataframe tbody tr th {\n",
       "        vertical-align: top;\n",
       "    }\n",
       "\n",
       "    .dataframe thead th {\n",
       "        text-align: right;\n",
       "    }\n",
       "</style>\n",
       "<table border=\"1\" class=\"dataframe\">\n",
       "  <thead>\n",
       "    <tr style=\"text-align: right;\">\n",
       "      <th></th>\n",
       "      <th>Data</th>\n",
       "      <th>Info</th>\n",
       "      <th>Valor</th>\n",
       "    </tr>\n",
       "  </thead>\n",
       "  <tbody>\n",
       "    <tr>\n",
       "      <th>642</th>\n",
       "      <td>2018-07-31</td>\n",
       "      <td>imoveis_dormitorio_2_rj</td>\n",
       "      <td>2829.0</td>\n",
       "    </tr>\n",
       "    <tr>\n",
       "      <th>1337</th>\n",
       "      <td>2024-02-29</td>\n",
       "      <td>imoveis_dormitorio_2_rj</td>\n",
       "      <td>1291.0</td>\n",
       "    </tr>\n",
       "    <tr>\n",
       "      <th>1437</th>\n",
       "      <td>2020-02-29</td>\n",
       "      <td>imoveis_dormitorio_3_rj</td>\n",
       "      <td>456.0</td>\n",
       "    </tr>\n",
       "    <tr>\n",
       "      <th>2533</th>\n",
       "      <td>2023-02-28</td>\n",
       "      <td>imoveis_garantia_hipoteca_rj</td>\n",
       "      <td>101.0</td>\n",
       "    </tr>\n",
       "    <tr>\n",
       "      <th>3998</th>\n",
       "      <td>2019-11-30</td>\n",
       "      <td>imoveis_valor_avaliacao_rj</td>\n",
       "      <td>225000.0</td>\n",
       "    </tr>\n",
       "    <tr>\n",
       "      <th>...</th>\n",
       "      <td>...</td>\n",
       "      <td>...</td>\n",
       "      <td>...</td>\n",
       "    </tr>\n",
       "    <tr>\n",
       "      <th>351903</th>\n",
       "      <td>2020-01-31</td>\n",
       "      <td>imoveis_dormitorio_2_rj</td>\n",
       "      <td>1999.0</td>\n",
       "    </tr>\n",
       "    <tr>\n",
       "      <th>351957</th>\n",
       "      <td>2020-01-31</td>\n",
       "      <td>imoveis_dormitorio_3_rj</td>\n",
       "      <td>453.0</td>\n",
       "    </tr>\n",
       "    <tr>\n",
       "      <th>352011</th>\n",
       "      <td>2020-01-31</td>\n",
       "      <td>imoveis_dormitorio_4_mais_rj</td>\n",
       "      <td>119.0</td>\n",
       "    </tr>\n",
       "    <tr>\n",
       "      <th>352063</th>\n",
       "      <td>2020-02-29</td>\n",
       "      <td>imoveis_dormitorio_1_rj</td>\n",
       "      <td>906.0</td>\n",
       "    </tr>\n",
       "    <tr>\n",
       "      <th>352117</th>\n",
       "      <td>2020-02-29</td>\n",
       "      <td>imoveis_dormitorio_2_rj</td>\n",
       "      <td>1932.0</td>\n",
       "    </tr>\n",
       "  </tbody>\n",
       "</table>\n",
       "<p>1064 rows × 3 columns</p>\n",
       "</div>"
      ],
      "text/plain": [
       "             Data                          Info     Valor\n",
       "642    2018-07-31       imoveis_dormitorio_2_rj    2829.0\n",
       "1337   2024-02-29       imoveis_dormitorio_2_rj    1291.0\n",
       "1437   2020-02-29       imoveis_dormitorio_3_rj     456.0\n",
       "2533   2023-02-28  imoveis_garantia_hipoteca_rj     101.0\n",
       "3998   2019-11-30    imoveis_valor_avaliacao_rj  225000.0\n",
       "...           ...                           ...       ...\n",
       "351903 2020-01-31       imoveis_dormitorio_2_rj    1999.0\n",
       "351957 2020-01-31       imoveis_dormitorio_3_rj     453.0\n",
       "352011 2020-01-31  imoveis_dormitorio_4_mais_rj     119.0\n",
       "352063 2020-02-29       imoveis_dormitorio_1_rj     906.0\n",
       "352117 2020-02-29       imoveis_dormitorio_2_rj    1932.0\n",
       "\n",
       "[1064 rows x 3 columns]"
      ]
     },
     "execution_count": 21,
     "metadata": {},
     "output_type": "execute_result"
    }
   ],
   "source": [
    "filtro_imoveis_rj"
   ]
  },
  {
   "cell_type": "code",
   "execution_count": 22,
   "metadata": {},
   "outputs": [],
   "source": [
    "filtro_imoveis_rr= filtro_unidade_federativa(filtro_imoveis, \"mg\")"
   ]
  },
  {
   "cell_type": "code",
   "execution_count": 23,
   "metadata": {},
   "outputs": [
    {
     "data": {
      "text/html": [
       "<div>\n",
       "<style scoped>\n",
       "    .dataframe tbody tr th:only-of-type {\n",
       "        vertical-align: middle;\n",
       "    }\n",
       "\n",
       "    .dataframe tbody tr th {\n",
       "        vertical-align: top;\n",
       "    }\n",
       "\n",
       "    .dataframe thead th {\n",
       "        text-align: right;\n",
       "    }\n",
       "</style>\n",
       "<table border=\"1\" class=\"dataframe\">\n",
       "  <thead>\n",
       "    <tr style=\"text-align: right;\">\n",
       "      <th></th>\n",
       "      <th>Data</th>\n",
       "      <th>Info</th>\n",
       "      <th>Valor</th>\n",
       "    </tr>\n",
       "  </thead>\n",
       "  <tbody>\n",
       "    <tr>\n",
       "      <th>949</th>\n",
       "      <td>2023-02-28</td>\n",
       "      <td>imoveis_garantia_hipoteca_mg</td>\n",
       "      <td>200.0</td>\n",
       "    </tr>\n",
       "    <tr>\n",
       "      <th>2414</th>\n",
       "      <td>2019-11-30</td>\n",
       "      <td>imoveis_valor_avaliacao_mg</td>\n",
       "      <td>155000.0</td>\n",
       "    </tr>\n",
       "    <tr>\n",
       "      <th>2557</th>\n",
       "      <td>2022-07-31</td>\n",
       "      <td>imoveis_area_privativa_mg</td>\n",
       "      <td>65.3</td>\n",
       "    </tr>\n",
       "    <tr>\n",
       "      <th>3076</th>\n",
       "      <td>2021-09-30</td>\n",
       "      <td>imoveis_dormitorio_4_mais_mg</td>\n",
       "      <td>493.0</td>\n",
       "    </tr>\n",
       "    <tr>\n",
       "      <th>3291</th>\n",
       "      <td>2019-11-30</td>\n",
       "      <td>imoveis_valor_compra_mg</td>\n",
       "      <td>150596.6</td>\n",
       "    </tr>\n",
       "    <tr>\n",
       "      <th>...</th>\n",
       "      <td>...</td>\n",
       "      <td>...</td>\n",
       "      <td>...</td>\n",
       "    </tr>\n",
       "    <tr>\n",
       "      <th>351941</th>\n",
       "      <td>2020-01-31</td>\n",
       "      <td>imoveis_dormitorio_3_mg</td>\n",
       "      <td>1195.0</td>\n",
       "    </tr>\n",
       "    <tr>\n",
       "      <th>351995</th>\n",
       "      <td>2020-01-31</td>\n",
       "      <td>imoveis_dormitorio_4_mais_mg</td>\n",
       "      <td>243.0</td>\n",
       "    </tr>\n",
       "    <tr>\n",
       "      <th>352047</th>\n",
       "      <td>2020-02-29</td>\n",
       "      <td>imoveis_dormitorio_1_mg</td>\n",
       "      <td>793.0</td>\n",
       "    </tr>\n",
       "    <tr>\n",
       "      <th>352101</th>\n",
       "      <td>2020-02-29</td>\n",
       "      <td>imoveis_dormitorio_2_mg</td>\n",
       "      <td>2849.0</td>\n",
       "    </tr>\n",
       "    <tr>\n",
       "      <th>352155</th>\n",
       "      <td>2020-02-29</td>\n",
       "      <td>imoveis_dormitorio_3_mg</td>\n",
       "      <td>1055.0</td>\n",
       "    </tr>\n",
       "  </tbody>\n",
       "</table>\n",
       "<p>1064 rows × 3 columns</p>\n",
       "</div>"
      ],
      "text/plain": [
       "             Data                          Info     Valor\n",
       "949    2023-02-28  imoveis_garantia_hipoteca_mg     200.0\n",
       "2414   2019-11-30    imoveis_valor_avaliacao_mg  155000.0\n",
       "2557   2022-07-31     imoveis_area_privativa_mg      65.3\n",
       "3076   2021-09-30  imoveis_dormitorio_4_mais_mg     493.0\n",
       "3291   2019-11-30       imoveis_valor_compra_mg  150596.6\n",
       "...           ...                           ...       ...\n",
       "351941 2020-01-31       imoveis_dormitorio_3_mg    1195.0\n",
       "351995 2020-01-31  imoveis_dormitorio_4_mais_mg     243.0\n",
       "352047 2020-02-29       imoveis_dormitorio_1_mg     793.0\n",
       "352101 2020-02-29       imoveis_dormitorio_2_mg    2849.0\n",
       "352155 2020-02-29       imoveis_dormitorio_3_mg    1055.0\n",
       "\n",
       "[1064 rows x 3 columns]"
      ]
     },
     "execution_count": 23,
     "metadata": {},
     "output_type": "execute_result"
    }
   ],
   "source": [
    "filtro_imoveis_rr"
   ]
  },
  {
   "cell_type": "code",
   "execution_count": 30,
   "metadata": {},
   "outputs": [
    {
     "data": {
      "text/html": [
       "<div>\n",
       "<style scoped>\n",
       "    .dataframe tbody tr th:only-of-type {\n",
       "        vertical-align: middle;\n",
       "    }\n",
       "\n",
       "    .dataframe tbody tr th {\n",
       "        vertical-align: top;\n",
       "    }\n",
       "\n",
       "    .dataframe thead th {\n",
       "        text-align: right;\n",
       "    }\n",
       "</style>\n",
       "<table border=\"1\" class=\"dataframe\">\n",
       "  <thead>\n",
       "    <tr style=\"text-align: right;\">\n",
       "      <th></th>\n",
       "      <th>0</th>\n",
       "      <th>1</th>\n",
       "      <th>2</th>\n",
       "      <th>3</th>\n",
       "      <th>4</th>\n",
       "    </tr>\n",
       "  </thead>\n",
       "  <tbody>\n",
       "    <tr>\n",
       "      <th>949</th>\n",
       "      <td>imoveis</td>\n",
       "      <td>garantia</td>\n",
       "      <td>hipoteca</td>\n",
       "      <td>mg</td>\n",
       "      <td>None</td>\n",
       "    </tr>\n",
       "    <tr>\n",
       "      <th>2414</th>\n",
       "      <td>imoveis</td>\n",
       "      <td>valor</td>\n",
       "      <td>avaliacao</td>\n",
       "      <td>mg</td>\n",
       "      <td>None</td>\n",
       "    </tr>\n",
       "    <tr>\n",
       "      <th>2557</th>\n",
       "      <td>imoveis</td>\n",
       "      <td>area</td>\n",
       "      <td>privativa</td>\n",
       "      <td>mg</td>\n",
       "      <td>None</td>\n",
       "    </tr>\n",
       "    <tr>\n",
       "      <th>3076</th>\n",
       "      <td>imoveis</td>\n",
       "      <td>dormitorio</td>\n",
       "      <td>4</td>\n",
       "      <td>mais</td>\n",
       "      <td>mg</td>\n",
       "    </tr>\n",
       "    <tr>\n",
       "      <th>3291</th>\n",
       "      <td>imoveis</td>\n",
       "      <td>valor</td>\n",
       "      <td>compra</td>\n",
       "      <td>mg</td>\n",
       "      <td>None</td>\n",
       "    </tr>\n",
       "    <tr>\n",
       "      <th>...</th>\n",
       "      <td>...</td>\n",
       "      <td>...</td>\n",
       "      <td>...</td>\n",
       "      <td>...</td>\n",
       "      <td>...</td>\n",
       "    </tr>\n",
       "    <tr>\n",
       "      <th>351941</th>\n",
       "      <td>imoveis</td>\n",
       "      <td>dormitorio</td>\n",
       "      <td>3</td>\n",
       "      <td>mg</td>\n",
       "      <td>None</td>\n",
       "    </tr>\n",
       "    <tr>\n",
       "      <th>351995</th>\n",
       "      <td>imoveis</td>\n",
       "      <td>dormitorio</td>\n",
       "      <td>4</td>\n",
       "      <td>mais</td>\n",
       "      <td>mg</td>\n",
       "    </tr>\n",
       "    <tr>\n",
       "      <th>352047</th>\n",
       "      <td>imoveis</td>\n",
       "      <td>dormitorio</td>\n",
       "      <td>1</td>\n",
       "      <td>mg</td>\n",
       "      <td>None</td>\n",
       "    </tr>\n",
       "    <tr>\n",
       "      <th>352101</th>\n",
       "      <td>imoveis</td>\n",
       "      <td>dormitorio</td>\n",
       "      <td>2</td>\n",
       "      <td>mg</td>\n",
       "      <td>None</td>\n",
       "    </tr>\n",
       "    <tr>\n",
       "      <th>352155</th>\n",
       "      <td>imoveis</td>\n",
       "      <td>dormitorio</td>\n",
       "      <td>3</td>\n",
       "      <td>mg</td>\n",
       "      <td>None</td>\n",
       "    </tr>\n",
       "  </tbody>\n",
       "</table>\n",
       "<p>1064 rows × 5 columns</p>\n",
       "</div>"
      ],
      "text/plain": [
       "              0           1          2     3     4\n",
       "949     imoveis    garantia   hipoteca    mg  None\n",
       "2414    imoveis       valor  avaliacao    mg  None\n",
       "2557    imoveis        area  privativa    mg  None\n",
       "3076    imoveis  dormitorio          4  mais    mg\n",
       "3291    imoveis       valor     compra    mg  None\n",
       "...         ...         ...        ...   ...   ...\n",
       "351941  imoveis  dormitorio          3    mg  None\n",
       "351995  imoveis  dormitorio          4  mais    mg\n",
       "352047  imoveis  dormitorio          1    mg  None\n",
       "352101  imoveis  dormitorio          2    mg  None\n",
       "352155  imoveis  dormitorio          3    mg  None\n",
       "\n",
       "[1064 rows x 5 columns]"
      ]
     },
     "execution_count": 30,
     "metadata": {},
     "output_type": "execute_result"
    }
   ],
   "source": [
    "filtro_imoveis_rr['Info'].str.split('_', expand=True)"
   ]
  }
 ],
 "metadata": {
  "kernelspec": {
   "display_name": "Python 3",
   "language": "python",
   "name": "python3"
  },
  "language_info": {
   "codemirror_mode": {
    "name": "ipython",
    "version": 3
   },
   "file_extension": ".py",
   "mimetype": "text/x-python",
   "name": "python",
   "nbconvert_exporter": "python",
   "pygments_lexer": "ipython3",
   "version": "3.12.4"
  }
 },
 "nbformat": 4,
 "nbformat_minor": 2
}
