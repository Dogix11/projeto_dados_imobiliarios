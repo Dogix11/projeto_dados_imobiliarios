{
 "cells": [
  {
   "cell_type": "code",
   "execution_count": 61,
   "metadata": {},
   "outputs": [],
   "source": [
    "import pandas as pd\n",
    "import matplotlib as plt\n",
    "import re\n",
    "import numpy as np"
   ]
  },
  {
   "cell_type": "code",
   "execution_count": 62,
   "metadata": {},
   "outputs": [
    {
     "name": "stdout",
     "output_type": "stream",
     "text": [
      "Index(['Data', 'Info', 'Valor'], dtype='object')\n",
      "['credito' 'imoveis' 'direcionamento' 'fontes' 'indices' 'contabil']\n",
      "['estoque' 'contratacao' None]\n"
     ]
    }
   ],
   "source": [
    "df = pd.read_csv(\"./mercadoimobiliario.csv\", sep= ';')\n",
    "# extração e correção variavel valor\n",
    "df['Valor'] = df['Valor'].str.replace(',', \".\")\n",
    "df['Valor'].str.strip()\n",
    "df['Valor'] = pd.to_numeric(df['Valor'])\n",
    "\n",
    "df['Data'] = pd.to_datetime(df['Data'], dayfirst=True, format='%d/%m/%Y')\n",
    "print(df.columns)\n",
    "\n",
    "df.columns = df.columns.str.strip()\n",
    "df['tipo_transacao'] = df['Info'].apply(lambda x: x.split('_')[0])\n",
    "df['tipo_credito'] = df.apply(lambda row: row['Info'].split('_')[1] if row['tipo_transacao'] == 'credito' else None, axis=1)\n",
    "\n",
    "df['estado'] = df['Info'].apply(lambda x: x.split('_')[-1])\n",
    "df_organizado_data = df.sort_values(by='Data')\n",
    "df_organizado_data.columns = ['data', 'info', 'valor', 'tipo_transacao', 'tipo_credito', 'estado']\n",
    "df_organizado_data = df_organizado_data.reset_index(drop=True)\n",
    "\n",
    "print(df['tipo_transacao'].unique())\n",
    "print(df['tipo_credito'].unique())\n"
   ]
  },
  {
   "cell_type": "code",
   "execution_count": 63,
   "metadata": {},
   "outputs": [
    {
     "name": "stderr",
     "output_type": "stream",
     "text": [
      "C:\\Users\\diogo\\AppData\\Local\\Temp\\ipykernel_17824\\2504305013.py:6: SettingWithCopyWarning: \n",
      "A value is trying to be set on a copy of a slice from a DataFrame.\n",
      "Try using .loc[row_indexer,col_indexer] = value instead\n",
      "\n",
      "See the caveats in the documentation: https://pandas.pydata.org/pandas-docs/stable/user_guide/indexing.html#returning-a-view-versus-a-copy\n",
      "  filtro_dormitorios_4['dormitorios'] = filtro_dormitorios_4['info'].str.extract(r'dormitorio_(\\d+)')\n"
     ]
    }
   ],
   "source": [
    "filtro_imoveis = df_organizado_data[df_organizado_data['tipo_transacao'].str.contains(r'\\bimoveis\\b', regex = True, case = False)]\n",
    "filtro_dormitorios_3 = filtro_imoveis[filtro_imoveis['info'].str.contains(r'\\wdormitorio\\w', regex = True, case = False)]\n",
    "filtro_dormitorios_3 = filtro_dormitorios_3[~filtro_dormitorios_3['info'].str.contains(r'\\wmais\\w', regex=True, case= False)]\n",
    "filtro_dormitorios_3['dormitorios'] = filtro_dormitorios_3['info'].str.extract(r'dormitorio_(\\d+)')\n",
    "filtro_dormitorios_4 = filtro_imoveis[filtro_imoveis['info'].str.contains(r'\\wmais\\w', regex = True, case = False)]\n",
    "filtro_dormitorios_4['dormitorios'] = filtro_dormitorios_4['info'].str.extract(r'dormitorio_(\\d+)')"
   ]
  },
  {
   "cell_type": "code",
   "execution_count": 64,
   "metadata": {},
   "outputs": [],
   "source": [
    "imoveis_dormitorios = pd.concat([filtro_dormitorios_3, filtro_dormitorios_4], ignore_index=True)\n",
    "imoveis_dormitorios = imoveis_dormitorios[['data', 'valor', 'tipo_transacao','estado','dormitorios']]\n",
    "#comentario especial para a Gi, sobre a multiplicação por milhões utilizando '_' como separador para ficar mais fácil a visualização\n",
    "imoveis_dormitorios['valor']=imoveis_dormitorios['valor']*1_000_000\n"
   ]
  },
  {
   "cell_type": "code",
   "execution_count": 65,
   "metadata": {},
   "outputs": [
    {
     "data": {
      "text/html": [
       "<div>\n",
       "<style scoped>\n",
       "    .dataframe tbody tr th:only-of-type {\n",
       "        vertical-align: middle;\n",
       "    }\n",
       "\n",
       "    .dataframe tbody tr th {\n",
       "        vertical-align: top;\n",
       "    }\n",
       "\n",
       "    .dataframe thead th {\n",
       "        text-align: right;\n",
       "    }\n",
       "</style>\n",
       "<table border=\"1\" class=\"dataframe\">\n",
       "  <thead>\n",
       "    <tr style=\"text-align: right;\">\n",
       "      <th></th>\n",
       "      <th>data</th>\n",
       "      <th>valor</th>\n",
       "      <th>tipo_transacao</th>\n",
       "      <th>estado</th>\n",
       "      <th>dormitorios</th>\n",
       "    </tr>\n",
       "  </thead>\n",
       "  <tbody>\n",
       "    <tr>\n",
       "      <th>0</th>\n",
       "      <td>2018-01-31</td>\n",
       "      <td>5000000.0</td>\n",
       "      <td>imoveis</td>\n",
       "      <td>rr</td>\n",
       "      <td>1</td>\n",
       "    </tr>\n",
       "    <tr>\n",
       "      <th>1</th>\n",
       "      <td>2018-01-31</td>\n",
       "      <td>779000000.0</td>\n",
       "      <td>imoveis</td>\n",
       "      <td>rs</td>\n",
       "      <td>1</td>\n",
       "    </tr>\n",
       "    <tr>\n",
       "      <th>2</th>\n",
       "      <td>2018-01-31</td>\n",
       "      <td>206000000.0</td>\n",
       "      <td>imoveis</td>\n",
       "      <td>sc</td>\n",
       "      <td>1</td>\n",
       "    </tr>\n",
       "    <tr>\n",
       "      <th>3</th>\n",
       "      <td>2018-01-31</td>\n",
       "      <td>14000000.0</td>\n",
       "      <td>imoveis</td>\n",
       "      <td>se</td>\n",
       "      <td>1</td>\n",
       "    </tr>\n",
       "    <tr>\n",
       "      <th>4</th>\n",
       "      <td>2018-01-31</td>\n",
       "      <td>550000000.0</td>\n",
       "      <td>imoveis</td>\n",
       "      <td>rj</td>\n",
       "      <td>1</td>\n",
       "    </tr>\n",
       "    <tr>\n",
       "      <th>...</th>\n",
       "      <td>...</td>\n",
       "      <td>...</td>\n",
       "      <td>...</td>\n",
       "      <td>...</td>\n",
       "      <td>...</td>\n",
       "    </tr>\n",
       "    <tr>\n",
       "      <th>8425</th>\n",
       "      <td>2024-04-30</td>\n",
       "      <td>19000000.0</td>\n",
       "      <td>imoveis</td>\n",
       "      <td>se</td>\n",
       "      <td>4</td>\n",
       "    </tr>\n",
       "    <tr>\n",
       "      <th>8426</th>\n",
       "      <td>2024-04-30</td>\n",
       "      <td>10000000.0</td>\n",
       "      <td>imoveis</td>\n",
       "      <td>to</td>\n",
       "      <td>4</td>\n",
       "    </tr>\n",
       "    <tr>\n",
       "      <th>8427</th>\n",
       "      <td>2024-04-30</td>\n",
       "      <td>499000000.0</td>\n",
       "      <td>imoveis</td>\n",
       "      <td>sp</td>\n",
       "      <td>4</td>\n",
       "    </tr>\n",
       "    <tr>\n",
       "      <th>8428</th>\n",
       "      <td>2024-04-30</td>\n",
       "      <td>60000000.0</td>\n",
       "      <td>imoveis</td>\n",
       "      <td>rs</td>\n",
       "      <td>4</td>\n",
       "    </tr>\n",
       "    <tr>\n",
       "      <th>8429</th>\n",
       "      <td>2024-04-30</td>\n",
       "      <td>69000000.0</td>\n",
       "      <td>imoveis</td>\n",
       "      <td>sc</td>\n",
       "      <td>4</td>\n",
       "    </tr>\n",
       "  </tbody>\n",
       "</table>\n",
       "<p>8430 rows × 5 columns</p>\n",
       "</div>"
      ],
      "text/plain": [
       "           data        valor tipo_transacao estado dormitorios\n",
       "0    2018-01-31    5000000.0        imoveis     rr           1\n",
       "1    2018-01-31  779000000.0        imoveis     rs           1\n",
       "2    2018-01-31  206000000.0        imoveis     sc           1\n",
       "3    2018-01-31   14000000.0        imoveis     se           1\n",
       "4    2018-01-31  550000000.0        imoveis     rj           1\n",
       "...         ...          ...            ...    ...         ...\n",
       "8425 2024-04-30   19000000.0        imoveis     se           4\n",
       "8426 2024-04-30   10000000.0        imoveis     to           4\n",
       "8427 2024-04-30  499000000.0        imoveis     sp           4\n",
       "8428 2024-04-30   60000000.0        imoveis     rs           4\n",
       "8429 2024-04-30   69000000.0        imoveis     sc           4\n",
       "\n",
       "[8430 rows x 5 columns]"
      ]
     },
     "execution_count": 65,
     "metadata": {},
     "output_type": "execute_result"
    }
   ],
   "source": [
    "imoveis_dormitorios"
   ]
  },
  {
   "cell_type": "code",
   "execution_count": 66,
   "metadata": {},
   "outputs": [
    {
     "name": "stderr",
     "output_type": "stream",
     "text": [
      "C:\\Users\\diogo\\AppData\\Local\\Temp\\ipykernel_17824\\906829873.py:2: SettingWithCopyWarning: \n",
      "A value is trying to be set on a copy of a slice from a DataFrame.\n",
      "Try using .loc[row_indexer,col_indexer] = value instead\n",
      "\n",
      "See the caveats in the documentation: https://pandas.pydata.org/pandas-docs/stable/user_guide/indexing.html#returning-a-view-versus-a-copy\n",
      "  filtro_tipo_imoveis['tipo'] = filtro_tipo_imoveis['info'].str.extract(r'tipo_([^_]+)')\n"
     ]
    }
   ],
   "source": [
    "filtro_tipo_imoveis = filtro_imoveis[filtro_imoveis['info'].str.contains(r'\\wtipo\\w', regex=True, case=False)]\n",
    "filtro_tipo_imoveis['tipo'] = filtro_tipo_imoveis['info'].str.extract(r'tipo_([^_]+)')\n",
    "filtro_tipo_imoveis = filtro_tipo_imoveis[['data', 'valor', 'estado', 'tipo']]\n",
    "filtro_tipo_imoveis['valor'] = filtro_tipo_imoveis['valor']*1_000_000"
   ]
  },
  {
   "cell_type": "code",
   "execution_count": 67,
   "metadata": {},
   "outputs": [
    {
     "name": "stderr",
     "output_type": "stream",
     "text": [
      "C:\\Users\\diogo\\AppData\\Local\\Temp\\ipykernel_17824\\4078544750.py:2: SettingWithCopyWarning: \n",
      "A value is trying to be set on a copy of a slice from a DataFrame.\n",
      "Try using .loc[row_indexer,col_indexer] = value instead\n",
      "\n",
      "See the caveats in the documentation: https://pandas.pydata.org/pandas-docs/stable/user_guide/indexing.html#returning-a-view-versus-a-copy\n",
      "  imoveis_tipo_garantia['garantia'] = imoveis_tipo_garantia['info'].str.extract(r'garantia_([^_]+)')\n"
     ]
    }
   ],
   "source": [
    "imoveis_tipo_garantia = filtro_imoveis[filtro_imoveis['info'].str.contains(r'\\wgarantia\\w', regex=True, case=False)]\n",
    "imoveis_tipo_garantia['garantia'] = imoveis_tipo_garantia['info'].str.extract(r'garantia_([^_]+)')\n",
    "imoveis_tipo_garantia = imoveis_tipo_garantia[['data', 'valor', 'estado', 'garantia']]\n",
    "imoveis_tipo_garantia['valor'] = imoveis_tipo_garantia['valor']*1_000_000"
   ]
  },
  {
   "cell_type": "code",
   "execution_count": 68,
   "metadata": {},
   "outputs": [
    {
     "name": "stderr",
     "output_type": "stream",
     "text": [
      "C:\\Users\\diogo\\AppData\\Local\\Temp\\ipykernel_17824\\1162883796.py:2: SettingWithCopyWarning: \n",
      "A value is trying to be set on a copy of a slice from a DataFrame.\n",
      "Try using .loc[row_indexer,col_indexer] = value instead\n",
      "\n",
      "See the caveats in the documentation: https://pandas.pydata.org/pandas-docs/stable/user_guide/indexing.html#returning-a-view-versus-a-copy\n",
      "  imoveis_area['area'] = imoveis_area['info'].str.extract(r'area_([^_]+)')\n"
     ]
    }
   ],
   "source": [
    "imoveis_area = filtro_imoveis[filtro_imoveis['info'].str.contains(r'\\warea\\w', regex=True, case=False)]\n",
    "imoveis_area['area'] = imoveis_area['info'].str.extract(r'area_([^_]+)')\n",
    "imoveis_area = imoveis_area[['data', 'valor', 'estado', 'area']]\n",
    "imoveis_area.columns= ['data', 'valor m2', 'estado', 'area']"
   ]
  },
  {
   "cell_type": "code",
   "execution_count": 69,
   "metadata": {},
   "outputs": [
    {
     "name": "stderr",
     "output_type": "stream",
     "text": [
      "C:\\Users\\diogo\\AppData\\Local\\Temp\\ipykernel_17824\\1265954608.py:2: SettingWithCopyWarning: \n",
      "A value is trying to be set on a copy of a slice from a DataFrame.\n",
      "Try using .loc[row_indexer,col_indexer] = value instead\n",
      "\n",
      "See the caveats in the documentation: https://pandas.pydata.org/pandas-docs/stable/user_guide/indexing.html#returning-a-view-versus-a-copy\n",
      "  imoveis_venda['venda'] = imoveis_venda['info'].str.extract(r'valor_([^_]+)')\n"
     ]
    }
   ],
   "source": [
    "imoveis_venda = filtro_imoveis[filtro_imoveis['info'].str.contains(r'\\wvalor\\w', regex=True, case=False)]\n",
    "imoveis_venda['venda'] = imoveis_venda['info'].str.extract(r'valor_([^_]+)')\n",
    "imoveis_venda= imoveis_venda[['data', 'valor', 'estado', 'venda']]"
   ]
  },
  {
   "cell_type": "code",
   "execution_count": 49,
   "metadata": {},
   "outputs": [],
   "source": []
  }
 ],
 "metadata": {
  "kernelspec": {
   "display_name": "Python 3",
   "language": "python",
   "name": "python3"
  },
  "language_info": {
   "codemirror_mode": {
    "name": "ipython",
    "version": 3
   },
   "file_extension": ".py",
   "mimetype": "text/x-python",
   "name": "python",
   "nbconvert_exporter": "python",
   "pygments_lexer": "ipython3",
   "version": "3.12.4"
  }
 },
 "nbformat": 4,
 "nbformat_minor": 2
}
